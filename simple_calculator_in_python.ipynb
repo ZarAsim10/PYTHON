{
  "nbformat": 4,
  "nbformat_minor": 0,
  "metadata": {
    "colab": {
      "provenance": [],
      "authorship_tag": "ABX9TyOwLosin711Htlphre1sm3y",
      "include_colab_link": true
    },
    "kernelspec": {
      "name": "python3",
      "display_name": "Python 3"
    },
    "language_info": {
      "name": "python"
    }
  },
  "cells": [
    {
      "cell_type": "markdown",
      "metadata": {
        "id": "view-in-github",
        "colab_type": "text"
      },
      "source": [
        "<a href=\"https://colab.research.google.com/github/ZarAsim10/PYTHON/blob/main/simple_calculator_in_python.ipynb\" target=\"_parent\"><img src=\"https://colab.research.google.com/assets/colab-badge.svg\" alt=\"Open In Colab\"/></a>"
      ]
    },
    {
      "cell_type": "code",
      "execution_count": null,
      "metadata": {
        "colab": {
          "base_uri": "https://localhost:8080/"
        },
        "id": "GWkf8IuEZm6n",
        "outputId": "2cd2de86-d7ad-4e59-8062-c0b9f773e4a6"
      },
      "outputs": [
        {
          "output_type": "stream",
          "name": "stdout",
          "text": [
            "1 - Add\n",
            "2 - Subtract\n",
            "3 - Multiply\n",
            "4 - Divide\n",
            "Choose an operation4\n",
            "Enter first number: 4\n",
            "Enter second number: 2\n",
            "The result of the operation is 2.0\n"
          ]
        }
      ],
      "source": [
        "print (\"1 - Add\")\n",
        "print (\"2 - Subtract\")\n",
        "print (\"3 - Multiply\")\n",
        "print (\"4 - Divide\")\n",
        "option = int(input(\"Choose an operation\"))\n",
        "\n",
        "if(option in [1,2,3,4]):\n",
        "  num1 = int(input(\"Enter first number: \"))\n",
        "  num2 = int(input(\"Enter second number: \"))\n",
        "\n",
        "if(option ==1):\n",
        "  result = num1 + num2\n",
        "elif(option ==2):\n",
        "  result = num1 - num2\n",
        "elif(option ==3):\n",
        "  result = num1 * num2\n",
        "elif(option ==4):\n",
        "  result = num1 / num2\n",
        "\n",
        "else:\n",
        "  print(\"invalid operation entered\")\n",
        "\n",
        "print(\"The result of the operation is {}\".format(result))"
      ]
    }
  ]
}