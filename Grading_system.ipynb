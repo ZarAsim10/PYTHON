{
  "nbformat": 4,
  "nbformat_minor": 0,
  "metadata": {
    "colab": {
      "provenance": [],
      "authorship_tag": "ABX9TyPJ/MTeEx+IOWQbXDeBDwtx",
      "include_colab_link": true
    },
    "kernelspec": {
      "name": "python3",
      "display_name": "Python 3"
    },
    "language_info": {
      "name": "python"
    }
  },
  "cells": [
    {
      "cell_type": "markdown",
      "metadata": {
        "id": "view-in-github",
        "colab_type": "text"
      },
      "source": [
        "<a href=\"https://colab.research.google.com/github/ZarAsim10/PYTHON/blob/main/Grading_system.ipynb\" target=\"_parent\"><img src=\"https://colab.research.google.com/assets/colab-badge.svg\" alt=\"Open In Colab\"/></a>"
      ]
    },
    {
      "cell_type": "code",
      "execution_count": null,
      "metadata": {
        "id": "12C0-IfnRh-U"
      },
      "outputs": [],
      "source": [
        "#A school has following rules for grading system:\n",
        "#a. Below 30 - F\n",
        "#b. 30 to 40 - E\n",
        "#c. 40 to 50 - D\n",
        "#d. 50 to 60 - C\n",
        "#e. 60 to 70 - B\n",
        "#f. 70 to 80 - A\n",
        "#g. 80 to 95 - A1\n"
      ]
    },
    {
      "cell_type": "code",
      "source": [
        "print (\"enter marks of student\")\n",
        "marks = int(input())\n",
        "if marks < 30:\n",
        "    print (\"F\")\n",
        "elif 30 <= marks < 40:\n",
        "    print (\"E\")\n",
        "elif 40 <= marks < 50:\n",
        "    print (\"D\")\n",
        "elif 50 <= marks < 60:\n",
        "    print (\"C\")\n",
        "elif 60 <= marks < 70:\n",
        "    print (\"B\")\n",
        "elif 70 <= marks < 80:\n",
        "    print (\"A\")\n",
        "elif 80 <= marks < 95:\n",
        "    print (\"A1\")"
      ],
      "metadata": {
        "colab": {
          "base_uri": "https://localhost:8080/"
        },
        "id": "2VV4Uj_XSw4r",
        "outputId": "6ae9e6c6-28d3-4ff0-aa1c-2f7e9405c191"
      },
      "execution_count": null,
      "outputs": [
        {
          "metadata": {
            "tags": null
          },
          "name": "stdout",
          "output_type": "stream",
          "text": [
            "enter marks of student\n"
          ]
        }
      ]
    }
  ]
}