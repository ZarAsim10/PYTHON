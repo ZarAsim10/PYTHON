{
  "nbformat": 4,
  "nbformat_minor": 0,
  "metadata": {
    "colab": {
      "provenance": [],
      "authorship_tag": "ABX9TyO8GB6sPjnVqzvzPhhuyiJB",
      "include_colab_link": true
    },
    "kernelspec": {
      "name": "python3",
      "display_name": "Python 3"
    },
    "language_info": {
      "name": "python"
    }
  },
  "cells": [
    {
      "cell_type": "markdown",
      "metadata": {
        "id": "view-in-github",
        "colab_type": "text"
      },
      "source": [
        "<a href=\"https://colab.research.google.com/github/ZarAsim10/PYTHON/blob/main/assignment_3_List_tuples_and_methods.ipynb\" target=\"_parent\"><img src=\"https://colab.research.google.com/assets/colab-badge.svg\" alt=\"Open In Colab\"/></a>"
      ]
    },
    {
      "cell_type": "code",
      "execution_count": null,
      "metadata": {
        "colab": {
          "base_uri": "https://localhost:8080/"
        },
        "id": "_GKru9QW9cL9",
        "outputId": "d1b8aa71-80f6-475e-f56a-89aed074cbce"
      },
      "outputs": [
        {
          "output_type": "stream",
          "name": "stdout",
          "text": [
            "['tomato', 'potato', 'peas', 'onion']\n",
            "['tomato', 'potato', 'peas', 'onion', 'carrot']\n"
          ]
        }
      ],
      "source": [
        "# PART ONE :BASIC LIST OPERATIONS\n",
        "\n",
        "#1 Create a list of five numbers and append a new number to it. Print the updated list.\n",
        "vegetables: list= [\"tomato\",\"potato\",\"peas\",\"onion\" ]\n",
        "print(vegetables)\n",
        "vegetables.append(\"carrot\")\n",
        "print(vegetables)"
      ]
    },
    {
      "cell_type": "code",
      "source": [
        "#extend a list [1,2,3] with another list [4,5,6] print the result\n",
        "numbers:list= [\"1\", \"2\", \"3 \"]\n",
        "numbers.extend([\"4\", \"5\", \"6\"])\n",
        "print(numbers)"
      ],
      "metadata": {
        "colab": {
          "base_uri": "https://localhost:8080/"
        },
        "id": "elHyTWrx-3OF",
        "outputId": "50f4a5c5-50d1-47f0-a685-9da9085ac3d2"
      },
      "execution_count": null,
      "outputs": [
        {
          "output_type": "stream",
          "name": "stdout",
          "text": [
            "['1', '2', '3 ', '4', '5', '6']\n"
          ]
        }
      ]
    },
    {
      "source": [
        "#Insert the string \"Python\" at index 2 in the list [\"Java\", \"c++\" ,\"Javascript\",\"Ruby\"]\n",
        "languages = [\"Java\", \"c++\" ,\"Javascript\",\"Ruby\"]\n",
        "languages.insert(2,\"Python\")\n",
        "print(languages)"
      ],
      "cell_type": "code",
      "metadata": {
        "colab": {
          "base_uri": "https://localhost:8080/"
        },
        "id": "e8e_7J2wBT46",
        "outputId": "ceb448b4-1579-4d6c-fbfe-ecf6393ae7a8"
      },
      "execution_count": null,
      "outputs": [
        {
          "output_type": "stream",
          "name": "stdout",
          "text": [
            "['Java', 'c++', 'Python', 'Javascript', 'Ruby']\n"
          ]
        }
      ]
    },
    {
      "cell_type": "code",
      "source": [
        "#Remove the first occurence of the number 10 from the list [10 , 20, 30 , 10 , 40]\n",
        "numbers = [10, 20, 30, 10, 40]\n",
        "numbers.remove(10)\n",
        "print(numbers)"
      ],
      "metadata": {
        "colab": {
          "base_uri": "https://localhost:8080/"
        },
        "id": "_xyAZVAEAIQP",
        "outputId": "6e8263f2-9804-428d-d2ed-f9f0d9caf66d"
      },
      "execution_count": null,
      "outputs": [
        {
          "output_type": "stream",
          "name": "stdout",
          "text": [
            "[20, 30, 10, 40]\n"
          ]
        }
      ]
    },
    {
      "cell_type": "code",
      "source": [
        "#Use the pop() method to remove the last element [ 100, 200, 300, 400] and print the modified list\n",
        "numbers = [100, 200, 300, 400]\n",
        "numbers.pop()\n",
        "print(numbers)"
      ],
      "metadata": {
        "colab": {
          "base_uri": "https://localhost:8080/"
        },
        "id": "yrGgeY2aB_8y",
        "outputId": "cd293687-46e3-4006-f148-20da7e038bc7"
      },
      "execution_count": null,
      "outputs": [
        {
          "output_type": "stream",
          "name": "stdout",
          "text": [
            "[100, 200, 300]\n"
          ]
        }
      ]
    },
    {
      "cell_type": "code",
      "source": [
        "#PART 2 : INTERMEDIATE LIST OPERATONS\n",
        "\n",
        "6 #count how many times the number 5 appears in the list [5, 10, 5, 20, 5,30]\n",
        "numbers = [5, 10, 5, 20, 5, 30]\n",
        "print(numbers.count(5))"
      ],
      "metadata": {
        "colab": {
          "base_uri": "https://localhost:8080/"
        },
        "id": "RUrSOW-OCdVw",
        "outputId": "d860aa1a-ec47-4167-b385-e0cd2f1e63a0"
      },
      "execution_count": null,
      "outputs": [
        {
          "output_type": "stream",
          "name": "stdout",
          "text": [
            "3\n"
          ]
        }
      ]
    },
    {
      "cell_type": "code",
      "source": [
        "7. #sort the list [9,1, 8, 3, 5 in ascending and descending order]\n",
        "numbers = [9,1,8,3,5]\n",
        "numbers.sort()\n",
        "print(numbers)\n",
        "numbers.reverse()\n",
        "print(numbers)"
      ],
      "metadata": {
        "colab": {
          "base_uri": "https://localhost:8080/"
        },
        "id": "vfq5g81TCiTX",
        "outputId": "d78250bc-a749-4d90-f678-87411dd16198"
      },
      "execution_count": null,
      "outputs": [
        {
          "output_type": "stream",
          "name": "stdout",
          "text": [
            "[1, 3, 5, 8, 9]\n",
            "[9, 8, 5, 3, 1]\n"
          ]
        }
      ]
    },
    {
      "cell_type": "code",
      "source": [
        "8 #Reverse the list [\"apple\",\"banana\" , \"cherry\" ] using the reverse() method\n",
        "fruits = [\"apple\", \"banana\", \"cherry\"]\n",
        "fruits.reverse()\n",
        "print(fruits)"
      ],
      "metadata": {
        "colab": {
          "base_uri": "https://localhost:8080/"
        },
        "id": "Aj4_5UrKEDmI",
        "outputId": "1c669ffe-c2bb-4b1d-a60f-e7d7d57e6c0a"
      },
      "execution_count": null,
      "outputs": [
        {
          "output_type": "stream",
          "name": "stdout",
          "text": [
            "['cherry', 'banana', 'apple']\n"
          ]
        }
      ]
    },
    {
      "cell_type": "code",
      "source": [
        "9# Create a copy of list[ 1,2,3,4,5] and store it in another variable modify the copied list and print both lists.\n",
        "original_list = [1, 2, 3, 4, 5]\n",
        "copied_list = original_list.copy()\n",
        "copied_list.append(6)\n",
        "print(original_list)\n",
        "print(copied_list)"
      ],
      "metadata": {
        "colab": {
          "base_uri": "https://localhost:8080/"
        },
        "id": "pc2pKohIEJpU",
        "outputId": "494a9341-ee55-4612-abac-58ca658b9d0c"
      },
      "execution_count": null,
      "outputs": [
        {
          "output_type": "stream",
          "name": "stdout",
          "text": [
            "[1, 2, 3, 4, 5]\n",
            "[1, 2, 3, 4, 5, 6]\n"
          ]
        }
      ]
    },
    {
      "cell_type": "code",
      "source": [
        "10 #Clear all elements from a list [\"hello\" , \"world\" , \"Python\"] using the clear () method\n",
        "list = [\"hello\" , \"world\", \"Python\"]\n",
        "list.clear()\n",
        "print(list)"
      ],
      "metadata": {
        "colab": {
          "base_uri": "https://localhost:8080/"
        },
        "id": "5YpeCghsFDAn",
        "outputId": "c5da1f46-41ae-46bf-a2d0-88a7c71d1a62"
      },
      "execution_count": null,
      "outputs": [
        {
          "output_type": "stream",
          "name": "stdout",
          "text": [
            "[]\n"
          ]
        }
      ]
    },
    {
      "cell_type": "code",
      "source": [
        "#TUPLE BASED QUESTION\n",
        "11 # Create a tuple with 5 different fruits and print the third fruit\n",
        "\n",
        "fruits = (\"apple\", \"banana\" , \"orange\", \"apricot\", \"guava\")\n",
        "print(fruits[3])"
      ],
      "metadata": {
        "colab": {
          "base_uri": "https://localhost:8080/"
        },
        "id": "PERiv2yZGOah",
        "outputId": "b6cc526c-7ec6-4f71-ca50-75af76ec5e94"
      },
      "execution_count": null,
      "outputs": [
        {
          "output_type": "stream",
          "name": "stdout",
          "text": [
            "apricot\n"
          ]
        }
      ]
    },
    {
      "cell_type": "code",
      "source": [
        "12 # Convert a tuple(10,20,30, 40, 50 into a list, remove the number 30, and convert it back into a tuple)\n",
        "my_tuple = (10, 20, 30, 40, 50)\n",
        "my_list_ = list(my_tuple)\n",
        "my_list_.remove(30)\n",
        "my_tuple = tuple(my_list_)\n",
        "print(my_tuple)\n",
        "\n"
      ],
      "metadata": {
        "id": "Ean4MO2uGw92"
      },
      "execution_count": null,
      "outputs": []
    },
    {
      "cell_type": "code",
      "source": [
        "13 # Try to append an element to the tuple (\"A\", \"B\", \"C\") what happens? how can you modify a tuple indirectly.?\n",
        "tup = (\"A\", \"B\", \"C\")\n",
        "tup.append(\"D\")\n",
        "print(tup)\n",
        "tup.modify(\"D\")\n",
        "print(tup)"
      ],
      "metadata": {
        "id": "DVYMSnGNHEk_"
      },
      "execution_count": null,
      "outputs": []
    },
    {
      "cell_type": "code",
      "source": [
        "14 #Unpack the tuple (100, 200, 300) into separate variables and print them.\n",
        "my_tuple = (100, 200, 300)\n",
        "a, b, c = my_tuple\n",
        "print(a)  # Output: 100\n",
        "print(b)  # Output: 200\n",
        "print(c)  # Output: 300"
      ],
      "metadata": {
        "colab": {
          "base_uri": "https://localhost:8080/"
        },
        "id": "vApI-L6VLVD6",
        "outputId": "d727a68e-41aa-4159-8a05-44b89134af45"
      },
      "execution_count": null,
      "outputs": [
        {
          "output_type": "stream",
          "name": "stdout",
          "text": [
            "100\n",
            "200\n",
            "300\n"
          ]
        }
      ]
    },
    {
      "cell_type": "code",
      "source": [
        "15 #Count the occurences of 7 in the tuple (7, 1, 7, 3 ,7, 5)\n",
        "my_tuple = (7, 1, 7, 3, 7, 5)\n",
        "count_of_7 = my_tuple.count(7)\n",
        "print(count_of_7)"
      ],
      "metadata": {
        "colab": {
          "base_uri": "https://localhost:8080/"
        },
        "id": "eO9WApivL7aR",
        "outputId": "e8a017d9-7049-410e-8172-ce9d0e605697"
      },
      "execution_count": null,
      "outputs": [
        {
          "output_type": "stream",
          "name": "stdout",
          "text": [
            "3\n"
          ]
        }
      ]
    },
    {
      "source": [
        "#ADVANCED PROBLEMBS:\n",
        "\n",
        "16 # Write a function  that takes a list and returns a new list with all even numbers removed\n",
        "my_list =[1, 2 ,3, 4, 5, 6, 7, 8, 9, 10]\n",
        "new_list =[1, 3, 5, 7, 9]\n",
        "print(new_list)"
      ],
      "cell_type": "code",
      "metadata": {
        "colab": {
          "base_uri": "https://localhost:8080/"
        },
        "id": "mIaCYKImMNmn",
        "outputId": "1fd1bb59-d515-4857-a42f-3b877f834304"
      },
      "execution_count": null,
      "outputs": [
        {
          "output_type": "stream",
          "name": "stdout",
          "text": [
            "[1, 3, 5, 7, 9]\n"
          ]
        }
      ]
    },
    {
      "cell_type": "code",
      "source": [
        "17 #Create a function that accepts a list and returns a new list with elements sorted in descending order without using the sort () method.\n",
        "my_list = [5, 2, 8, 1, 3]\n",
        "sorted_list = sorted(my_list, reverse=True)\n",
        "print(sorted_list)"
      ],
      "metadata": {
        "colab": {
          "base_uri": "https://localhost:8080/"
        },
        "id": "zsKNoZ7xORF3",
        "outputId": "21bc0292-2862-4354-a95f-66d92186c4c9"
      },
      "execution_count": null,
      "outputs": [
        {
          "output_type": "stream",
          "name": "stdout",
          "text": [
            "[8, 5, 3, 2, 1]\n"
          ]
        }
      ]
    },
    {
      "cell_type": "code",
      "source": [
        "18 # Given a list of numbers write a program to remove all duplicate elements and print the unique element\n",
        "my_list= [1, 2 , 3, 4, 5, 6 , 1 ,2]\n",
        "unique_list =list(set(my_list))\n",
        "print(unique_list)"
      ],
      "metadata": {
        "id": "K9PvTttaPn-o"
      },
      "execution_count": null,
      "outputs": []
    },
    {
      "cell_type": "code",
      "source": [
        "19 # Given a tuple of names (\"Alice \", \"Bob\", \"Charlie\", \"Alice\", \"David\"), convert it into a list , remove duplocates and convert it back to a tuple\n",
        "names = (\"Alice\", \"Bob\", \"Charlie\", \"Alice\", \"David\")\n",
        "names_list =list(names)\n",
        "names_list = list(set(names_list))\n",
        "names = tuple(names_list)\n",
        "print(names)"
      ],
      "metadata": {
        "id": "vahqVgR_Q8z1"
      },
      "execution_count": null,
      "outputs": []
    },
    {
      "cell_type": "code",
      "source": [
        "20 #Create a program that takes a list  of mixed data types (int, str, float) and separates integers into one list, strings into another, and floats into another.\n",
        "\n",
        "mixed_list = [10, \"hello\", 3.14, \"world\", 25, -2.5]\n",
        "int_list= []\n",
        "str_list= []\n",
        "float_list= []\n",
        "for item in mixed_list:\n",
        "  if isinstance(item, int):\n",
        "    int_list.append(item)\n",
        "  elif isinstance(item, str):\n",
        "    str_list.append(item)\n",
        "  elif isinstance(item, float):\n",
        "    float_list.append(item)\n",
        "\n",
        "print(int_list)\n",
        "print(str_list)\n",
        "print(float_list)"
      ],
      "metadata": {
        "colab": {
          "base_uri": "https://localhost:8080/"
        },
        "id": "Hq51pbOySuEd",
        "outputId": "9a338244-a425-4756-b201-2a48b87d0897"
      },
      "execution_count": null,
      "outputs": [
        {
          "output_type": "stream",
          "name": "stdout",
          "text": [
            "[10, 25]\n",
            "['hello', 'world']\n",
            "[3.14, -2.5]\n"
          ]
        }
      ]
    },
    {
      "cell_type": "code",
      "source": [],
      "metadata": {
        "id": "-7CAQ25dVbuE"
      },
      "execution_count": null,
      "outputs": []
    }
  ]
}